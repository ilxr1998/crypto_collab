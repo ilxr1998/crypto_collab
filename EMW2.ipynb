{
 "cells": [
  {
   "cell_type": "code",
   "execution_count": null,
   "metadata": {
    "collapsed": true
   },
   "outputs": [],
   "source": [
    "from datetime import datetime\n",
    "import pandas as pd\n",
    "import os    "
   ]
  },
  {
   "cell_type": "code",
   "execution_count": null,
   "metadata": {
    "collapsed": true
   },
   "outputs": [],
   "source": [
    "df = pd.read_csv('Bitfinex_BTCEUR_trades_2018_02_02.csv')\n",
    "#print(df.shape)\n",
    "df.index = pd.to_datetime(df['date'])"
   ]
  },
  {
   "cell_type": "code",
   "execution_count": null,
   "metadata": {
    "collapsed": true
   },
   "outputs": [],
   "source": [
    "import pandas as pd\n",
    "import numpy as np\n",
    "\n",
    "alpha = 0.55\n",
    "x = df['price']\n",
    "def ewma(x, alpha):\n",
    "    '''\n",
    "    Returns the exponentially weighted moving average of x.\n",
    "\n",
    "    Parameters:\n",
    "    -----------\n",
    "    x : array-like\n",
    "    alpha : float {0 <= alpha <= 1}\n",
    "\n",
    "    Returns:\n",
    "    --------\n",
    "    ewma : numpy array\n",
    "        the exponentially weighted moving average\n",
    "    '''\n",
    "    # coerce x to an array\n",
    "    x = np.array(x)\n",
    "    n = x.size\n",
    "    # create an initial weight matrix of (1-alpha), and a matrix of powers\n",
    "    # to raise the weights by\n",
    "    w0 = np.ones(shape=(n,n)) * (1-alpha) \n",
    "    p = np.vstack([np.arange(i,i-n,-1) for i in range(n)])\n",
    "    # create the weight matrix\n",
    "    w = np.tril(w0**p,0)\n",
    "    # calculate the ewma\n",
    "    return np.dot(w, x[::np.newaxis]) / w.sum(axis=1)\n"
   ]
  },
  {
   "cell_type": "code",
   "execution_count": null,
   "metadata": {
    "collapsed": true
   },
   "outputs": [],
   "source": [
    "df = pd.DataFrame(x)\n",
    "expo_moving_avg = df.ewm(alpha=alpha).mean()\n",
    "df['expo_moving_avg']  = expo_moving_avg "
   ]
  },
  {
   "cell_type": "code",
   "execution_count": null,
   "metadata": {
    "collapsed": true
   },
   "outputs": [],
   "source": [
    "import matplotlib.pyplot as plt\n",
    "%matplotlib inline\n",
    "plt.plot(expo_moving_avg)\n",
    "plt.xlabel('Time Period')\n",
    "plt.ylabel('Exponential Moving Average')"
   ]
  }
 ],
 "metadata": {
  "kernelspec": {
   "display_name": "Python 2",
   "language": "python",
   "name": "python2"
  },
  "language_info": {
   "codemirror_mode": {
    "name": "ipython",
    "version": 2
   },
   "file_extension": ".py",
   "mimetype": "text/x-python",
   "name": "python",
   "nbconvert_exporter": "python",
   "pygments_lexer": "ipython2",
   "version": "2.7.13"
  }
 },
 "nbformat": 4,
 "nbformat_minor": 2
}
