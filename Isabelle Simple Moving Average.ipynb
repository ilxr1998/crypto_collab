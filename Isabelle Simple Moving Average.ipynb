{
 "cells": [
  {
   "cell_type": "code",
   "execution_count": 2,
   "metadata": {},
   "outputs": [],
   "source": [
    "from datetime import datetime\n",
    "import pandas as pd\n",
    "import os\n",
    "import numpy as np\n",
    "\n",
    "\n",
    "def convert_dates(date):\n",
    "    \"\"\"\n",
    "    Converts time since the Unix epoch in milliseconds to a datetime object.\n",
    "    \"\"\"\n",
    "    return datetime.fromtimestamp(date / 1000)\n",
    "\n",
    "\n",
    "def read_trade_data(filepath):\n",
    "    \"\"\"\n",
    "    Read csv containing crypto trade data at <filepath>, convert time fields\n",
    "    and select relevant columns.\n",
    "\n",
    "    :param filepath: path to csv file\n",
    "    :returns: (exchange, symbol, preprocessed Pandas dataframe)\n",
    "    \"\"\"\n",
    "    trades = pd.read_csv(filepath)\n",
    "    # convert dates from unix timestamps\n",
    "    trades['date'] = trades['date'].apply(convert_dates)\n",
    "    trades.set_index('date', inplace=True)\n",
    "    trades.sort_index(ascending=True, inplace=True)\n",
    "    # check data relates to a single exchange and coin pair\n",
    "    assert trades['exchange'].nunique() == 1, 'Multiple exchanges present'\n",
    "    assert trades['symbol'].nunique() == 1, 'Multiple symbols present'\n",
    "    # select relevant columns\n",
    "    trade_features = trades[['price', 'amount', 'sell']]\n",
    "    exchange = trades['exchange'].iloc[0]\n",
    "    symbol = trades['symbol'].iloc[0]\n",
    "    return exchange, symbol, trade_features\n"
   ]
  },
  {
   "cell_type": "code",
   "execution_count": 3,
   "metadata": {},
   "outputs": [
    {
     "data": {
      "text/plain": [
       "('bf', 'btceur',                            price    amount   sell\n",
       " date                                             \n",
       " 2018-02-02 08:00:08  7349.600000  0.004568  False\n",
       " 2018-02-02 08:00:09  7354.680450  0.010000   True\n",
       " 2018-02-02 08:00:09  7354.680450  0.004568   True\n",
       " 2018-02-02 08:00:10  7354.600000  0.102395  False\n",
       " 2018-02-02 08:00:26  7343.407500  0.086580  False\n",
       " 2018-02-02 08:00:26  7343.807250  0.204920  False\n",
       " 2018-02-02 08:00:38  7356.000000  0.300000  False\n",
       " 2018-02-02 08:00:38  7357.900000  0.088007  False\n",
       " 2018-02-02 08:00:38  7355.800000  0.100000  False\n",
       " 2018-02-02 08:00:39  7343.167650  0.088007  False\n",
       " 2018-02-02 08:01:15  7352.281950  0.002000   True\n",
       " 2018-02-02 08:01:55  7351.320200  0.300000   True\n",
       " 2018-02-02 08:01:55  7351.320200  0.300000   True\n",
       " 2018-02-02 08:01:55  7348.321701  0.300000   True\n",
       " 2018-02-02 08:01:55  7339.326204  0.300000   True\n",
       " 2018-02-02 08:01:55  7344.323702  0.300000   True\n",
       " 2018-02-02 08:01:55  7339.825954  0.100000   True\n",
       " 2018-02-02 08:02:00  7338.854490  0.004885   True\n",
       " 2018-02-02 08:02:07  7338.934400  0.070000  False\n",
       " 2018-02-02 08:02:07  7340.372780  0.202579  False\n",
       " 2018-02-02 08:02:07  7339.653590  0.400000  False\n",
       " 2018-02-02 08:02:07  7338.934400  0.021287  False\n",
       " 2018-02-02 08:02:07  7339.653590  0.600000  False\n",
       " 2018-02-02 08:02:11  7361.900000  0.599912  False\n",
       " 2018-02-02 08:02:19  7339.900000  0.171953   True\n",
       " 2018-02-02 08:02:21  7339.900000  0.420000   True\n",
       " 2018-02-02 08:02:36  7339.893320  0.241449  False\n",
       " 2018-02-02 08:04:31  7334.700000  1.000000   True\n",
       " 2018-02-02 08:05:02  7311.765000  0.591953   True\n",
       " 2018-02-02 08:05:15  7300.000000  0.010000   True\n",
       " ...                          ...       ...    ...\n",
       " 2018-02-03 07:54:35  7151.289936  0.020000   True\n",
       " 2018-02-03 07:54:35  7151.209666  0.392500   True\n",
       " 2018-02-03 07:54:35  7151.209666  0.600000   True\n",
       " 2018-02-03 07:54:36  7151.000000  0.784800  False\n",
       " 2018-02-03 07:55:06  7153.457237  0.002970   True\n",
       " 2018-02-03 07:56:04  7148.000000  0.321677  False\n",
       " 2018-02-03 07:56:23  7140.373162  0.004848  False\n",
       " 2018-02-03 07:56:23  7140.373162  0.004708  False\n",
       " 2018-02-03 07:56:23  7140.373162  0.106910  False\n",
       " 2018-02-03 07:56:23  7140.373162  0.087147  False\n",
       " 2018-02-03 07:56:23  7140.373162  0.046387  False\n",
       " 2018-02-03 07:56:53  7131.100000  0.144122  False\n",
       " 2018-02-03 07:56:54  7131.100000  0.010000  False\n",
       " 2018-02-03 07:57:00  7124.000000  1.500000   True\n",
       " 2018-02-03 07:57:09  7123.275566  0.154769  False\n",
       " 2018-02-03 07:58:05  7140.500000  0.100000  False\n",
       " 2018-02-03 07:58:05  7140.300000  0.099993  False\n",
       " 2018-02-03 07:58:07  7141.000000  0.100000  False\n",
       " 2018-02-03 07:58:10  7145.200000  0.077792  False\n",
       " 2018-02-03 07:58:11  7151.100000  0.006111  False\n",
       " 2018-02-03 07:58:11  7150.900000  0.100000  False\n",
       " 2018-02-03 07:58:44  7142.000000  1.687097   True\n",
       " 2018-02-03 07:58:45  7142.000000  0.939920   True\n",
       " 2018-02-03 07:58:53  7126.100000  0.106258   True\n",
       " 2018-02-03 07:58:53  7130.400000  0.100000   True\n",
       " 2018-02-03 07:58:58  7123.500000  0.100000   True\n",
       " 2018-02-03 07:59:17  7128.172061  0.030500   True\n",
       " 2018-02-03 07:59:22  7134.433152  0.024440  False\n",
       " 2018-02-03 07:59:33  7136.199101  0.010000   True\n",
       " 2018-02-03 07:59:33  7136.200000  0.006030   True\n",
       " \n",
       " [15715 rows x 3 columns])"
      ]
     },
     "execution_count": 3,
     "metadata": {},
     "output_type": "execute_result"
    }
   ],
   "source": [
    "read_trade_data('Bitfinex_BTCEUR_trades_'\n",
    "                                             '2018_02_02.csv')\n"
   ]
  },
  {
   "cell_type": "code",
   "execution_count": 4,
   "metadata": {},
   "outputs": [],
   "source": [
    "def write_processed(exchange, symbol, data, loc=None):\n",
    "    \"\"\"\n",
    "    Write processed features for a given exchange and coin pair\n",
    "    to a parquet file named '<exchange>_<symbol>_trades.parquet'.\n",
    "\n",
    "    :param exchange: str exchange name\n",
    "    :param symbol: str symbol name\n",
    "    :param data: dataframe\n",
    "    :param loc: alternative filepath in which to save\n",
    "    \"\"\"\n",
    "    filename = f'{exchange}_{symbol}_trades.parquet'\n",
    "    path = os.getcwd() if loc is None else loc\n",
    "    filepath = os.path.join(path, filename)\n",
    "    data.to_parquet(filepath)\n",
    "\n",
    "\n",
    "if __name__ == \"__main__\":\n",
    "    exchange, symbol, data = read_trade_data('Bitfinex_BTCEUR_trades_'\n",
    "                                             '2018_02_02.csv')\n",
    "    write_processed(exchange, symbol, data)"
   ]
  },
  {
   "cell_type": "code",
   "execution_count": 5,
   "metadata": {},
   "outputs": [],
   "source": [
    "write_processed('bf', 'btceur' ,data)\n"
   ]
  },
  {
   "cell_type": "code",
   "execution_count": 6,
   "metadata": {},
   "outputs": [
    {
     "name": "stdout",
     "output_type": "stream",
     "text": [
      "              id exchange  symbol           date        price    amount   sell\n",
      "0      183601815       bf  btceur  1517529608000  7349.600000  0.004568  False\n",
      "1      183601825       bf  btceur  1517529609000  7354.680450  0.010000   True\n",
      "2      183601823       bf  btceur  1517529609000  7354.680450  0.004568   True\n",
      "3      183601833       bf  btceur  1517529610000  7354.600000  0.102395  False\n",
      "4      183601904       bf  btceur  1517529626000  7343.407500  0.086580  False\n",
      "5      183601906       bf  btceur  1517529626000  7343.807250  0.204920  False\n",
      "6      183602055       bf  btceur  1517529638000  7356.000000  0.300000  False\n",
      "7      183602057       bf  btceur  1517529638000  7357.900000  0.088007  False\n",
      "8      183602052       bf  btceur  1517529638000  7355.800000  0.100000  False\n",
      "9      183602064       bf  btceur  1517529639000  7343.167650  0.088007  False\n",
      "10     183602333       bf  btceur  1517529675000  7352.281950  0.002000   True\n",
      "11     183602610       bf  btceur  1517529715000  7351.320200  0.300000   True\n",
      "12     183602612       bf  btceur  1517529715000  7351.320200  0.300000   True\n",
      "13     183602618       bf  btceur  1517529715000  7348.321701  0.300000   True\n",
      "14     183602629       bf  btceur  1517529715000  7339.326204  0.300000   True\n",
      "15     183602624       bf  btceur  1517529715000  7344.323702  0.300000   True\n",
      "16     183602627       bf  btceur  1517529715000  7339.825954  0.100000   True\n",
      "17     183602676       bf  btceur  1517529720000  7338.854490  0.004885   True\n",
      "18     183602733       bf  btceur  1517529727000  7338.934400  0.070000  False\n",
      "19     183602739       bf  btceur  1517529727000  7340.372780  0.202579  False\n",
      "20     183602735       bf  btceur  1517529727000  7339.653590  0.400000  False\n",
      "21     183602731       bf  btceur  1517529727000  7338.934400  0.021287  False\n",
      "22     183602737       bf  btceur  1517529727000  7339.653590  0.600000  False\n",
      "23     183602772       bf  btceur  1517529731000  7361.900000  0.599912  False\n",
      "24     183602835       bf  btceur  1517529739000  7339.900000  0.171953   True\n",
      "25     183602844       bf  btceur  1517529741000  7339.900000  0.420000   True\n",
      "26     183602895       bf  btceur  1517529756000  7339.893320  0.241449  False\n",
      "27     183603483       bf  btceur  1517529871000  7334.700000  1.000000   True\n",
      "28     183604043       bf  btceur  1517529902000  7311.765000  0.591953   True\n",
      "29     183604261       bf  btceur  1517529915000  7300.000000  0.010000   True\n",
      "...          ...      ...     ...            ...          ...       ...    ...\n",
      "15685  185088490       bf  btceur  1517615675000  7151.289936  0.020000   True\n",
      "15686  185088492       bf  btceur  1517615675000  7151.209666  0.392500   True\n",
      "15687  185088494       bf  btceur  1517615675000  7151.209666  0.600000   True\n",
      "15688  185088507       bf  btceur  1517615676000  7151.000000  0.784800  False\n",
      "15689  185088721       bf  btceur  1517615706000  7153.457237  0.002970   True\n",
      "15690  185089418       bf  btceur  1517615764000  7148.000000  0.321677  False\n",
      "15691  185089519       bf  btceur  1517615783000  7140.373162  0.004848  False\n",
      "15692  185089521       bf  btceur  1517615783000  7140.373162  0.004708  False\n",
      "15693  185089525       bf  btceur  1517615783000  7140.373162  0.106910  False\n",
      "15694  185089517       bf  btceur  1517615783000  7140.373162  0.087147  False\n",
      "15695  185089523       bf  btceur  1517615783000  7140.373162  0.046387  False\n",
      "15696  185089729       bf  btceur  1517615813000  7131.100000  0.144122  False\n",
      "15697  185089740       bf  btceur  1517615814000  7131.100000  0.010000  False\n",
      "15698  185089799       bf  btceur  1517615820000  7124.000000  1.500000   True\n",
      "15699  185089846       bf  btceur  1517615829000  7123.275566  0.154769  False\n",
      "15700  185090070       bf  btceur  1517615885000  7140.500000  0.100000  False\n",
      "15701  185090067       bf  btceur  1517615885000  7140.300000  0.099993  False\n",
      "15702  185090085       bf  btceur  1517615887000  7141.000000  0.100000  False\n",
      "15703  185090106       bf  btceur  1517615890000  7145.200000  0.077792  False\n",
      "15704  185090112       bf  btceur  1517615891000  7151.100000  0.006111  False\n",
      "15705  185090110       bf  btceur  1517615891000  7150.900000  0.100000  False\n",
      "15706  185090357       bf  btceur  1517615924000  7142.000000  1.687097   True\n",
      "15707  185090361       bf  btceur  1517615925000  7142.000000  0.939920   True\n",
      "15708  185090429       bf  btceur  1517615933000  7126.100000  0.106258   True\n",
      "15709  185090427       bf  btceur  1517615933000  7130.400000  0.100000   True\n",
      "15710  185090480       bf  btceur  1517615938000  7123.500000  0.100000   True\n",
      "15711  185090657       bf  btceur  1517615957000  7128.172061  0.030500   True\n",
      "15712  185090708       bf  btceur  1517615962000  7134.433152  0.024440  False\n",
      "15713  185090729       bf  btceur  1517615973000  7136.199101  0.010000   True\n",
      "15714  185090748       bf  btceur  1517615973000  7136.200000  0.006030   True\n",
      "\n",
      "[15715 rows x 7 columns]\n"
     ]
    }
   ],
   "source": [
    "df = pd.read_csv('Bitfinex_BTCEUR_trades_'\n",
    "                                             '2018_02_02.csv')\n",
    "print(df)"
   ]
  },
  {
   "cell_type": "code",
   "execution_count": 7,
   "metadata": {},
   "outputs": [
    {
     "data": {
      "text/html": [
       "<div>\n",
       "<style scoped>\n",
       "    .dataframe tbody tr th:only-of-type {\n",
       "        vertical-align: middle;\n",
       "    }\n",
       "\n",
       "    .dataframe tbody tr th {\n",
       "        vertical-align: top;\n",
       "    }\n",
       "\n",
       "    .dataframe thead th {\n",
       "        text-align: right;\n",
       "    }\n",
       "</style>\n",
       "<table border=\"1\" class=\"dataframe\">\n",
       "  <thead>\n",
       "    <tr style=\"text-align: right;\">\n",
       "      <th></th>\n",
       "      <th>id</th>\n",
       "      <th>exchange</th>\n",
       "      <th>symbol</th>\n",
       "      <th>date</th>\n",
       "      <th>price</th>\n",
       "      <th>amount</th>\n",
       "      <th>sell</th>\n",
       "    </tr>\n",
       "  </thead>\n",
       "  <tbody>\n",
       "    <tr>\n",
       "      <th>0</th>\n",
       "      <td>183601815</td>\n",
       "      <td>bf</td>\n",
       "      <td>btceur</td>\n",
       "      <td>1517529608000</td>\n",
       "      <td>7349.60000</td>\n",
       "      <td>0.004568</td>\n",
       "      <td>False</td>\n",
       "    </tr>\n",
       "    <tr>\n",
       "      <th>1</th>\n",
       "      <td>183601825</td>\n",
       "      <td>bf</td>\n",
       "      <td>btceur</td>\n",
       "      <td>1517529609000</td>\n",
       "      <td>7354.68045</td>\n",
       "      <td>0.010000</td>\n",
       "      <td>True</td>\n",
       "    </tr>\n",
       "    <tr>\n",
       "      <th>2</th>\n",
       "      <td>183601823</td>\n",
       "      <td>bf</td>\n",
       "      <td>btceur</td>\n",
       "      <td>1517529609000</td>\n",
       "      <td>7354.68045</td>\n",
       "      <td>0.004568</td>\n",
       "      <td>True</td>\n",
       "    </tr>\n",
       "    <tr>\n",
       "      <th>3</th>\n",
       "      <td>183601833</td>\n",
       "      <td>bf</td>\n",
       "      <td>btceur</td>\n",
       "      <td>1517529610000</td>\n",
       "      <td>7354.60000</td>\n",
       "      <td>0.102395</td>\n",
       "      <td>False</td>\n",
       "    </tr>\n",
       "    <tr>\n",
       "      <th>4</th>\n",
       "      <td>183601904</td>\n",
       "      <td>bf</td>\n",
       "      <td>btceur</td>\n",
       "      <td>1517529626000</td>\n",
       "      <td>7343.40750</td>\n",
       "      <td>0.086580</td>\n",
       "      <td>False</td>\n",
       "    </tr>\n",
       "  </tbody>\n",
       "</table>\n",
       "</div>"
      ],
      "text/plain": [
       "          id exchange  symbol           date       price    amount   sell\n",
       "0  183601815       bf  btceur  1517529608000  7349.60000  0.004568  False\n",
       "1  183601825       bf  btceur  1517529609000  7354.68045  0.010000   True\n",
       "2  183601823       bf  btceur  1517529609000  7354.68045  0.004568   True\n",
       "3  183601833       bf  btceur  1517529610000  7354.60000  0.102395  False\n",
       "4  183601904       bf  btceur  1517529626000  7343.40750  0.086580  False"
      ]
     },
     "execution_count": 7,
     "metadata": {},
     "output_type": "execute_result"
    }
   ],
   "source": [
    "df.head()\n"
   ]
  },
  {
   "cell_type": "code",
   "execution_count": 8,
   "metadata": {},
   "outputs": [
    {
     "name": "stdout",
     "output_type": "stream",
     "text": [
      "              id           date        price    amount\n",
      "0      183601815  1517529608000  7349.600000  0.004568\n",
      "1      183601825  1517529609000  7354.680450  0.010000\n",
      "2      183601823  1517529609000  7354.680450  0.004568\n",
      "3      183601833  1517529610000  7354.600000  0.102395\n",
      "4      183601904  1517529626000  7343.407500  0.086580\n",
      "5      183601906  1517529626000  7343.807250  0.204920\n",
      "6      183602055  1517529638000  7356.000000  0.300000\n",
      "7      183602057  1517529638000  7357.900000  0.088007\n",
      "8      183602052  1517529638000  7355.800000  0.100000\n",
      "9      183602064  1517529639000  7343.167650  0.088007\n",
      "10     183602333  1517529675000  7352.281950  0.002000\n",
      "11     183602610  1517529715000  7351.320200  0.300000\n",
      "12     183602612  1517529715000  7351.320200  0.300000\n",
      "13     183602618  1517529715000  7348.321701  0.300000\n",
      "14     183602629  1517529715000  7339.326204  0.300000\n",
      "15     183602624  1517529715000  7344.323702  0.300000\n",
      "16     183602627  1517529715000  7339.825954  0.100000\n",
      "17     183602676  1517529720000  7338.854490  0.004885\n",
      "18     183602733  1517529727000  7338.934400  0.070000\n",
      "19     183602739  1517529727000  7340.372780  0.202579\n",
      "20     183602735  1517529727000  7339.653590  0.400000\n",
      "21     183602731  1517529727000  7338.934400  0.021287\n",
      "22     183602737  1517529727000  7339.653590  0.600000\n",
      "23     183602772  1517529731000  7361.900000  0.599912\n",
      "24     183602835  1517529739000  7339.900000  0.171953\n",
      "25     183602844  1517529741000  7339.900000  0.420000\n",
      "26     183602895  1517529756000  7339.893320  0.241449\n",
      "27     183603483  1517529871000  7334.700000  1.000000\n",
      "28     183604043  1517529902000  7311.765000  0.591953\n",
      "29     183604261  1517529915000  7300.000000  0.010000\n",
      "...          ...            ...          ...       ...\n",
      "15685  185088490  1517615675000  7151.289936  0.020000\n",
      "15686  185088492  1517615675000  7151.209666  0.392500\n",
      "15687  185088494  1517615675000  7151.209666  0.600000\n",
      "15688  185088507  1517615676000  7151.000000  0.784800\n",
      "15689  185088721  1517615706000  7153.457237  0.002970\n",
      "15690  185089418  1517615764000  7148.000000  0.321677\n",
      "15691  185089519  1517615783000  7140.373162  0.004848\n",
      "15692  185089521  1517615783000  7140.373162  0.004708\n",
      "15693  185089525  1517615783000  7140.373162  0.106910\n",
      "15694  185089517  1517615783000  7140.373162  0.087147\n",
      "15695  185089523  1517615783000  7140.373162  0.046387\n",
      "15696  185089729  1517615813000  7131.100000  0.144122\n",
      "15697  185089740  1517615814000  7131.100000  0.010000\n",
      "15698  185089799  1517615820000  7124.000000  1.500000\n",
      "15699  185089846  1517615829000  7123.275566  0.154769\n",
      "15700  185090070  1517615885000  7140.500000  0.100000\n",
      "15701  185090067  1517615885000  7140.300000  0.099993\n",
      "15702  185090085  1517615887000  7141.000000  0.100000\n",
      "15703  185090106  1517615890000  7145.200000  0.077792\n",
      "15704  185090112  1517615891000  7151.100000  0.006111\n",
      "15705  185090110  1517615891000  7150.900000  0.100000\n",
      "15706  185090357  1517615924000  7142.000000  1.687097\n",
      "15707  185090361  1517615925000  7142.000000  0.939920\n",
      "15708  185090429  1517615933000  7126.100000  0.106258\n",
      "15709  185090427  1517615933000  7130.400000  0.100000\n",
      "15710  185090480  1517615938000  7123.500000  0.100000\n",
      "15711  185090657  1517615957000  7128.172061  0.030500\n",
      "15712  185090708  1517615962000  7134.433152  0.024440\n",
      "15713  185090729  1517615973000  7136.199101  0.010000\n",
      "15714  185090748  1517615973000  7136.200000  0.006030\n",
      "\n",
      "[15715 rows x 4 columns]\n"
     ]
    }
   ],
   "source": [
    "df2 = df.drop(['exchange', 'symbol', 'sell'], axis=1)\n",
    "print(df2)"
   ]
  },
  {
   "cell_type": "code",
   "execution_count": 9,
   "metadata": {},
   "outputs": [
    {
     "name": "stdout",
     "output_type": "stream",
     "text": [
      "          id           date       price    amount\n",
      "0  183601815  1517529608000  7349.60000  0.004568\n",
      "1  183601825  1517529609000  7354.68045  0.010000\n",
      "2  183601823  1517529609000  7354.68045  0.004568\n",
      "3  183601833  1517529610000  7354.60000  0.102395\n",
      "4  183601904  1517529626000  7343.40750  0.086580\n",
      "              id           date        price   amount\n",
      "15710  185090480  1517615938000  7123.500000  0.10000\n",
      "15711  185090657  1517615957000  7128.172061  0.03050\n",
      "15712  185090708  1517615962000  7134.433152  0.02444\n",
      "15713  185090729  1517615973000  7136.199101  0.01000\n",
      "15714  185090748  1517615973000  7136.200000  0.00603\n"
     ]
    }
   ],
   "source": [
    "print(df2.head())\n",
    "print(df2.tail())"
   ]
  },
  {
   "cell_type": "code",
   "execution_count": 10,
   "metadata": {},
   "outputs": [
    {
     "name": "stdout",
     "output_type": "stream",
     "text": [
      "        price\n",
      "0  7349.60000\n",
      "1  7354.68045\n",
      "2  7354.68045\n",
      "3  7354.60000\n",
      "4  7343.40750\n"
     ]
    }
   ],
   "source": [
    "df3 = df.drop(['id', 'date', 'amount', 'exchange', 'symbol', 'sell'], axis=1)\n",
    "print(df3.head())"
   ]
  },
  {
   "cell_type": "code",
   "execution_count": 11,
   "metadata": {},
   "outputs": [],
   "source": [
    "dfprice = df['price']"
   ]
  },
  {
   "cell_type": "code",
   "execution_count": 13,
   "metadata": {},
   "outputs": [
    {
     "data": {
      "text/plain": [
       "15695    7134.931401\n",
       "15696    7136.986401\n",
       "15697    7139.071328\n",
       "15698    7141.387229\n",
       "15699    7141.001008\n",
       "15700    7141.460877\n",
       "15701    7141.525877\n",
       "15702    7141.625877\n",
       "15703    7141.785877\n",
       "15704    7141.780394\n",
       "15705    7141.760897\n",
       "15706    7141.300414\n",
       "15707    7140.839931\n",
       "15708    7139.594931\n",
       "15709    7138.442069\n",
       "15710    7137.217069\n",
       "15711    7136.607014\n",
       "15712    7136.310013\n",
       "15713    7136.101310\n",
       "15714    7135.892652\n",
       "Name: price, dtype: float64"
      ]
     },
     "execution_count": 13,
     "metadata": {},
     "output_type": "execute_result"
    }
   ],
   "source": [
    "short_rolling = dfprice.rolling(window=20).mean()\n",
    "short_rolling.tail(20)"
   ]
  },
  {
   "cell_type": "code",
   "execution_count": 14,
   "metadata": {},
   "outputs": [
    {
     "data": {
      "text/plain": [
       "15710    7109.745258\n",
       "15711    7109.866979\n",
       "15712    7110.111311\n",
       "15713    7110.263302\n",
       "15714    7110.537302\n",
       "Name: price, dtype: float64"
      ]
     },
     "execution_count": 14,
     "metadata": {},
     "output_type": "execute_result"
    }
   ],
   "source": [
    "long_rolling = dfprice.rolling(window=100).mean()\n",
    "long_rolling.tail()"
   ]
  },
  {
   "cell_type": "code",
   "execution_count": 15,
   "metadata": {},
   "outputs": [
    {
     "name": "stdout",
     "output_type": "stream",
     "text": [
      "              id exchange  symbol           date        price   amount   sell  \\\n",
      "15710  185090480       bf  btceur  1517615938000  7123.500000  0.10000   True   \n",
      "15711  185090657       bf  btceur  1517615957000  7128.172061  0.03050   True   \n",
      "15712  185090708       bf  btceur  1517615962000  7134.433152  0.02444  False   \n",
      "15713  185090729       bf  btceur  1517615973000  7136.199101  0.01000   True   \n",
      "15714  185090748       bf  btceur  1517615973000  7136.200000  0.00603   True   \n",
      "\n",
      "       short rolling  \n",
      "15710    7137.217069  \n",
      "15711    7136.607014  \n",
      "15712    7136.310013  \n",
      "15713    7136.101310  \n",
      "15714    7135.892652  \n"
     ]
    }
   ],
   "source": [
    "df['short rolling'] = short_rolling\n",
    "print(df.tail())"
   ]
  },
  {
   "cell_type": "code",
   "execution_count": 22,
   "metadata": {},
   "outputs": [
    {
     "name": "stdout",
     "output_type": "stream",
     "text": [
      "              id exchange  symbol                date        price   amount  \\\n",
      "15710  185090480       bf  btceur 2018-02-03 07:58:58  7123.500000  0.10000   \n",
      "15711  185090657       bf  btceur 2018-02-03 07:59:17  7128.172061  0.03050   \n",
      "15712  185090708       bf  btceur 2018-02-03 07:59:22  7134.433152  0.02444   \n",
      "15713  185090729       bf  btceur 2018-02-03 07:59:33  7136.199101  0.01000   \n",
      "15714  185090748       bf  btceur 2018-02-03 07:59:33  7136.200000  0.00603   \n",
      "\n",
      "        sell  short rolling  long rolling sma  \n",
      "15710   True    7137.217069       7109.745258  \n",
      "15711   True    7136.607014       7109.866979  \n",
      "15712  False    7136.310013       7110.111311  \n",
      "15713   True    7136.101310       7110.263302  \n",
      "15714   True    7135.892652       7110.537302  \n"
     ]
    }
   ],
   "source": [
    "df['long rolling sma'] = long_rolling\n",
    "df['date'] = df['date'].apply(convert_dates)\n",
    "print(df.tail())"
   ]
  },
  {
   "cell_type": "code",
   "execution_count": 23,
   "metadata": {},
   "outputs": [
    {
     "data": {
      "text/plain": [
       "<matplotlib.axes._subplots.AxesSubplot at 0x7f0c892f94a8>"
      ]
     },
     "execution_count": 23,
     "metadata": {},
     "output_type": "execute_result"
    },
    {
     "data": {
      "image/png": "[encoded data removed]",
      "text/plain": [
       "<Figure size 432x288 with 1 Axes>"
      ]
     },
     "metadata": {},
     "output_type": "display_data"
    },
    {
     "data": {
      "image/png": "[encoded data removed]",
      "text/plain": [
       "<Figure size 432x288 with 1 Axes>"
      ]
     },
     "metadata": {},
     "output_type": "display_data"
    }
   ],
   "source": [
    "import matplotlib.pyplot as plt\n",
    "%matplotlib inline\n",
    "plt.style.use('seaborn-whitegrid')\n",
    "\n",
    "\n",
    "df.plot(x = 'date', y = 'short rolling')\n",
    "df.plot(x = 'date', y = 'long rolling sma')"
   ]
  },
  {
   "cell_type": "code",
   "execution_count": null,
   "metadata": {},
   "outputs": [],
   "source": []
  }
 ],
 "metadata": {
  "kernelspec": {
   "display_name": "Python 3",
   "language": "python",
   "name": "python3"
  },
  "language_info": {
   "codemirror_mode": {
    "name": "ipython",
    "version": 3
   },
   "file_extension": ".py",
   "mimetype": "text/x-python",
   "name": "python",
   "nbconvert_exporter": "python",
   "pygments_lexer": "ipython3",
   "version": "3.6.5"
  }
 },
 "nbformat": 4,
 "nbformat_minor": 2
}
